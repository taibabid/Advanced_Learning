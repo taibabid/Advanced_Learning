{
  "nbformat": 4,
  "nbformat_minor": 0,
  "metadata": {
    "colab": {
      "provenance": [],
      "authorship_tag": "ABX9TyOFcR7lfCMJ3wVxQ85a263v",
      "include_colab_link": true
    },
    "kernelspec": {
      "name": "python3",
      "display_name": "Python 3"
    },
    "language_info": {
      "name": "python"
    }
  },
  "cells": [
    {
      "cell_type": "markdown",
      "metadata": {
        "id": "view-in-github",
        "colab_type": "text"
      },
      "source": [
        "<a href=\"https://colab.research.google.com/github/taibabid/Advanced_Learning/blob/main/Personal_Assistant.ipynb\" target=\"_parent\"><img src=\"https://colab.research.google.com/assets/colab-badge.svg\" alt=\"Open In Colab\"/></a>"
      ]
    },
    {
      "cell_type": "code",
      "source": [
        "!pip install SpeechRecognition"
      ],
      "metadata": {
        "id": "S3Ii3-vNHLy2",
        "colab": {
          "base_uri": "https://localhost:8080/"
        },
        "outputId": "5d62a649-a641-4acf-f337-7d18f950ebca"
      },
      "execution_count": 1,
      "outputs": [
        {
          "output_type": "stream",
          "name": "stdout",
          "text": [
            "Looking in indexes: https://pypi.org/simple, https://us-python.pkg.dev/colab-wheels/public/simple/\n",
            "Collecting SpeechRecognition\n",
            "  Downloading SpeechRecognition-3.8.1-py2.py3-none-any.whl (32.8 MB)\n",
            "\u001b[K     |████████████████████████████████| 32.8 MB 120.1 MB/s \n",
            "\u001b[?25hInstalling collected packages: SpeechRecognition\n",
            "Successfully installed SpeechRecognition-3.8.1\n"
          ]
        }
      ]
    },
    {
      "cell_type": "code",
      "source": [
        "!apt-get remove --auto-remove libav-tools ffmpeg portaudio19-dev libportaudio2 libportaudiocpp0 "
      ],
      "metadata": {
        "colab": {
          "base_uri": "https://localhost:8080/"
        },
        "id": "jwbOSRx5jI4g",
        "outputId": "9106ee0c-6c21-495f-aa67-8213186491bf"
      },
      "execution_count": 2,
      "outputs": [
        {
          "output_type": "stream",
          "name": "stdout",
          "text": [
            "Reading package lists... Done\n",
            "Building dependency tree       \n",
            "Reading state information... Done\n",
            "Package 'libav-tools' is not installed, so not removed\n",
            "Package 'libportaudio2' is not installed, so not removed\n",
            "Package 'libportaudiocpp0' is not installed, so not removed\n",
            "Package 'portaudio19-dev' is not installed, so not removed\n",
            "The following packages will be REMOVED:\n",
            "  ffmpeg libnvidia-common-460\n",
            "0 upgraded, 0 newly installed, 2 to remove and 27 not upgraded.\n",
            "After this operation, 2,312 kB disk space will be freed.\n",
            "(Reading database ... 123942 files and directories currently installed.)\n",
            "Removing ffmpeg (7:3.4.11-0ubuntu0.1) ...\n",
            "Removing libnvidia-common-460 (460.106.00-0ubuntu1) ...\n",
            "Processing triggers for man-db (2.8.3-2ubuntu0.1) ...\n"
          ]
        }
      ]
    },
    {
      "cell_type": "code",
      "source": [
        "!apt install libasound2-dev portaudio19-dev libportaudio2 libportaudiocpp0 ffmpeg"
      ],
      "metadata": {
        "colab": {
          "base_uri": "https://localhost:8080/"
        },
        "id": "1EmGNQhLjjP3",
        "outputId": "cbae6221-9e94-41e3-c125-38b69b1ce5c6"
      },
      "execution_count": 3,
      "outputs": [
        {
          "output_type": "stream",
          "name": "stdout",
          "text": [
            "Reading package lists... Done\n",
            "Building dependency tree       \n",
            "Reading state information... Done\n",
            "libasound2-dev is already the newest version (1.1.3-5ubuntu0.6).\n",
            "Suggested packages:\n",
            "  ffmpeg-doc portaudio19-doc\n",
            "The following NEW packages will be installed:\n",
            "  ffmpeg libportaudio2 libportaudiocpp0 portaudio19-dev\n",
            "0 upgraded, 4 newly installed, 0 to remove and 27 not upgraded.\n",
            "Need to get 1,771 kB of archives.\n",
            "After this operation, 3,167 kB of additional disk space will be used.\n",
            "Get:1 http://archive.ubuntu.com/ubuntu bionic-updates/universe amd64 ffmpeg amd64 7:3.4.11-0ubuntu0.1 [1,587 kB]\n",
            "Get:2 http://archive.ubuntu.com/ubuntu bionic/universe amd64 libportaudio2 amd64 19.6.0-1 [64.6 kB]\n",
            "Get:3 http://archive.ubuntu.com/ubuntu bionic/universe amd64 libportaudiocpp0 amd64 19.6.0-1 [15.1 kB]\n",
            "Get:4 http://archive.ubuntu.com/ubuntu bionic/universe amd64 portaudio19-dev amd64 19.6.0-1 [104 kB]\n",
            "Fetched 1,771 kB in 1s (1,416 kB/s)\n",
            "Selecting previously unselected package ffmpeg.\n",
            "(Reading database ... 123903 files and directories currently installed.)\n",
            "Preparing to unpack .../ffmpeg_7%3a3.4.11-0ubuntu0.1_amd64.deb ...\n",
            "Unpacking ffmpeg (7:3.4.11-0ubuntu0.1) ...\n",
            "Selecting previously unselected package libportaudio2:amd64.\n",
            "Preparing to unpack .../libportaudio2_19.6.0-1_amd64.deb ...\n",
            "Unpacking libportaudio2:amd64 (19.6.0-1) ...\n",
            "Selecting previously unselected package libportaudiocpp0:amd64.\n",
            "Preparing to unpack .../libportaudiocpp0_19.6.0-1_amd64.deb ...\n",
            "Unpacking libportaudiocpp0:amd64 (19.6.0-1) ...\n",
            "Selecting previously unselected package portaudio19-dev:amd64.\n",
            "Preparing to unpack .../portaudio19-dev_19.6.0-1_amd64.deb ...\n",
            "Unpacking portaudio19-dev:amd64 (19.6.0-1) ...\n",
            "Setting up libportaudio2:amd64 (19.6.0-1) ...\n",
            "Setting up ffmpeg (7:3.4.11-0ubuntu0.1) ...\n",
            "Setting up libportaudiocpp0:amd64 (19.6.0-1) ...\n",
            "Setting up portaudio19-dev:amd64 (19.6.0-1) ...\n",
            "Processing triggers for man-db (2.8.3-2ubuntu0.1) ...\n",
            "Processing triggers for libc-bin (2.27-3ubuntu1.6) ...\n"
          ]
        }
      ]
    },
    {
      "cell_type": "code",
      "source": [
        "!pip install Pyaudio"
      ],
      "metadata": {
        "colab": {
          "base_uri": "https://localhost:8080/"
        },
        "id": "nx9HmuudzQbz",
        "outputId": "22661067-2072-4482-c59e-37444c4271a4"
      },
      "execution_count": 4,
      "outputs": [
        {
          "output_type": "stream",
          "name": "stdout",
          "text": [
            "Looking in indexes: https://pypi.org/simple, https://us-python.pkg.dev/colab-wheels/public/simple/\n",
            "Collecting Pyaudio\n",
            "  Downloading PyAudio-0.2.12.tar.gz (42 kB)\n",
            "\u001b[K     |████████████████████████████████| 42 kB 1.1 MB/s \n",
            "\u001b[?25h  Installing build dependencies ... \u001b[?25l\u001b[?25hdone\n",
            "  Getting requirements to build wheel ... \u001b[?25l\u001b[?25hdone\n",
            "    Preparing wheel metadata ... \u001b[?25l\u001b[?25hdone\n",
            "Building wheels for collected packages: Pyaudio\n",
            "  Building wheel for Pyaudio (PEP 517) ... \u001b[?25l\u001b[?25hdone\n",
            "  Created wheel for Pyaudio: filename=PyAudio-0.2.12-cp37-cp37m-linux_x86_64.whl size=53834 sha256=42100ed07b96ee55e5a53ee86de8de58192102d6d2f45ae7775337039bba744c\n",
            "  Stored in directory: /root/.cache/pip/wheels/35/e0/b2/0e02f4af505bc69cd9f349eba8d6c558cd07e184a9a16f3537\n",
            "Successfully built Pyaudio\n",
            "Installing collected packages: Pyaudio\n",
            "Successfully installed Pyaudio-0.2.12\n"
          ]
        }
      ]
    },
    {
      "cell_type": "code",
      "source": [
        "!pip install pyttsx3==2.71"
      ],
      "metadata": {
        "colab": {
          "base_uri": "https://localhost:8080/"
        },
        "id": "1mOIxeEscRqJ",
        "outputId": "6e319494-8c38-4ee2-8691-9f65b5568528"
      },
      "execution_count": 5,
      "outputs": [
        {
          "output_type": "stream",
          "name": "stdout",
          "text": [
            "Looking in indexes: https://pypi.org/simple, https://us-python.pkg.dev/colab-wheels/public/simple/\n",
            "Collecting pyttsx3==2.71\n",
            "  Downloading pyttsx3-2.71-py3-none-any.whl (39 kB)\n",
            "Installing collected packages: pyttsx3\n",
            "Successfully installed pyttsx3-2.71\n"
          ]
        }
      ]
    },
    {
      "cell_type": "code",
      "source": [
        "!apt-get install time"
      ],
      "metadata": {
        "colab": {
          "base_uri": "https://localhost:8080/"
        },
        "id": "5sWqPU33mAyS",
        "outputId": "04994ffc-4437-42a0-9561-dfe97ad3360a"
      },
      "execution_count": 6,
      "outputs": [
        {
          "output_type": "stream",
          "name": "stdout",
          "text": [
            "Reading package lists... Done\n",
            "Building dependency tree       \n",
            "Reading state information... Done\n",
            "The following NEW packages will be installed:\n",
            "  time\n",
            "0 upgraded, 1 newly installed, 0 to remove and 27 not upgraded.\n",
            "Need to get 26.2 kB of archives.\n",
            "After this operation, 79.9 kB of additional disk space will be used.\n",
            "Get:1 http://archive.ubuntu.com/ubuntu bionic/main amd64 time amd64 1.7-25.1build1 [26.2 kB]\n",
            "Fetched 26.2 kB in 0s (145 kB/s)\n",
            "Selecting previously unselected package time.\n",
            "(Reading database ... 123981 files and directories currently installed.)\n",
            "Preparing to unpack .../time_1.7-25.1build1_amd64.deb ...\n",
            "Unpacking time (1.7-25.1build1) ...\n",
            "Setting up time (1.7-25.1build1) ...\n",
            "Processing triggers for man-db (2.8.3-2ubuntu0.1) ...\n"
          ]
        }
      ]
    },
    {
      "cell_type": "code",
      "source": [
        "!pip install npm"
      ],
      "metadata": {
        "colab": {
          "base_uri": "https://localhost:8080/"
        },
        "id": "oAsGn0AvtYyE",
        "outputId": "e7cccd73-e7de-4783-c148-6555d3ad1c03"
      },
      "execution_count": 7,
      "outputs": [
        {
          "output_type": "stream",
          "name": "stdout",
          "text": [
            "Looking in indexes: https://pypi.org/simple, https://us-python.pkg.dev/colab-wheels/public/simple/\n",
            "Collecting npm\n",
            "  Downloading npm-0.1.1.tar.gz (2.5 kB)\n",
            "Collecting optional-django==0.1.0\n",
            "  Downloading optional-django-0.1.0.tar.gz (9.5 kB)\n",
            "Building wheels for collected packages: npm, optional-django\n",
            "  Building wheel for npm (setup.py) ... \u001b[?25l\u001b[?25hdone\n",
            "  Created wheel for npm: filename=npm-0.1.1-py3-none-any.whl size=3708 sha256=1d7beceaf825ba22135377fc4a3923380e93c8693f13090c4fb7a0eac3073582\n",
            "  Stored in directory: /root/.cache/pip/wheels/ac/f4/b7/b04f66d1d583751776af2ce4fac55409c6f66d55965e57ee99\n",
            "  Building wheel for optional-django (setup.py) ... \u001b[?25l\u001b[?25hdone\n",
            "  Created wheel for optional-django: filename=optional_django-0.1.0-py3-none-any.whl size=9978 sha256=96bb2d5a919e89cf04aaa63b728a0754745fc2d22e69a03867b8d7a5a9e156c7\n",
            "  Stored in directory: /root/.cache/pip/wheels/1c/e9/a3/5e7d589f0ee51e0631361966ac9eb7f063d46f68669ced53b5\n",
            "Successfully built npm optional-django\n",
            "Installing collected packages: optional-django, npm\n",
            "Successfully installed npm-0.1.1 optional-django-0.1.0\n"
          ]
        }
      ]
    },
    {
      "cell_type": "code",
      "source": [
        "!pip install wikipedia\n",
        "!pip install ecapture \n",
        "!pip install wolframalpha\n",
        "!pip install requests"
      ],
      "metadata": {
        "colab": {
          "base_uri": "https://localhost:8080/"
        },
        "id": "1O0HGVQiUjIq",
        "outputId": "f62ddf15-682f-4a2f-868f-d2c0a4683e07"
      },
      "execution_count": 8,
      "outputs": [
        {
          "output_type": "stream",
          "name": "stdout",
          "text": [
            "Looking in indexes: https://pypi.org/simple, https://us-python.pkg.dev/colab-wheels/public/simple/\n",
            "Collecting wikipedia\n",
            "  Downloading wikipedia-1.4.0.tar.gz (27 kB)\n",
            "Requirement already satisfied: beautifulsoup4 in /usr/local/lib/python3.7/dist-packages (from wikipedia) (4.6.3)\n",
            "Requirement already satisfied: requests<3.0.0,>=2.0.0 in /usr/local/lib/python3.7/dist-packages (from wikipedia) (2.23.0)\n",
            "Requirement already satisfied: certifi>=2017.4.17 in /usr/local/lib/python3.7/dist-packages (from requests<3.0.0,>=2.0.0->wikipedia) (2022.9.24)\n",
            "Requirement already satisfied: idna<3,>=2.5 in /usr/local/lib/python3.7/dist-packages (from requests<3.0.0,>=2.0.0->wikipedia) (2.10)\n",
            "Requirement already satisfied: urllib3!=1.25.0,!=1.25.1,<1.26,>=1.21.1 in /usr/local/lib/python3.7/dist-packages (from requests<3.0.0,>=2.0.0->wikipedia) (1.24.3)\n",
            "Requirement already satisfied: chardet<4,>=3.0.2 in /usr/local/lib/python3.7/dist-packages (from requests<3.0.0,>=2.0.0->wikipedia) (3.0.4)\n",
            "Building wheels for collected packages: wikipedia\n",
            "  Building wheel for wikipedia (setup.py) ... \u001b[?25l\u001b[?25hdone\n",
            "  Created wheel for wikipedia: filename=wikipedia-1.4.0-py3-none-any.whl size=11695 sha256=9c715a6c23d72678dcba169b13cff2a85629096b105970c67d1341f1c8a05780\n",
            "  Stored in directory: /root/.cache/pip/wheels/15/93/6d/5b2c68b8a64c7a7a04947b4ed6d89fb557dcc6bc27d1d7f3ba\n",
            "Successfully built wikipedia\n",
            "Installing collected packages: wikipedia\n",
            "Successfully installed wikipedia-1.4.0\n",
            "Looking in indexes: https://pypi.org/simple, https://us-python.pkg.dev/colab-wheels/public/simple/\n",
            "Collecting ecapture\n",
            "  Downloading ecapture-2.0.2-py3-none-any.whl (17 kB)\n",
            "Requirement already satisfied: opencv-python in /usr/local/lib/python3.7/dist-packages (from ecapture) (4.6.0.66)\n",
            "Requirement already satisfied: numpy>=1.14.5 in /usr/local/lib/python3.7/dist-packages (from opencv-python->ecapture) (1.21.6)\n",
            "Installing collected packages: ecapture\n",
            "Successfully installed ecapture-2.0.2\n",
            "Looking in indexes: https://pypi.org/simple, https://us-python.pkg.dev/colab-wheels/public/simple/\n",
            "Collecting wolframalpha\n",
            "  Downloading wolframalpha-5.0.0-py3-none-any.whl (7.5 kB)\n",
            "Collecting jaraco.context\n",
            "  Downloading jaraco.context-4.1.2-py3-none-any.whl (4.7 kB)\n",
            "Collecting xmltodict\n",
            "  Downloading xmltodict-0.13.0-py2.py3-none-any.whl (10.0 kB)\n",
            "Requirement already satisfied: more-itertools in /usr/local/lib/python3.7/dist-packages (from wolframalpha) (8.14.0)\n",
            "Installing collected packages: xmltodict, jaraco.context, wolframalpha\n",
            "Successfully installed jaraco.context-4.1.2 wolframalpha-5.0.0 xmltodict-0.13.0\n",
            "Looking in indexes: https://pypi.org/simple, https://us-python.pkg.dev/colab-wheels/public/simple/\n",
            "Requirement already satisfied: requests in /usr/local/lib/python3.7/dist-packages (2.23.0)\n",
            "Requirement already satisfied: chardet<4,>=3.0.2 in /usr/local/lib/python3.7/dist-packages (from requests) (3.0.4)\n",
            "Requirement already satisfied: urllib3!=1.25.0,!=1.25.1,<1.26,>=1.21.1 in /usr/local/lib/python3.7/dist-packages (from requests) (1.24.3)\n",
            "Requirement already satisfied: certifi>=2017.4.17 in /usr/local/lib/python3.7/dist-packages (from requests) (2022.9.24)\n",
            "Requirement already satisfied: idna<3,>=2.5 in /usr/local/lib/python3.7/dist-packages (from requests) (2.10)\n"
          ]
        }
      ]
    },
    {
      "cell_type": "markdown",
      "source": [
        "# Import the libraries"
      ],
      "metadata": {
        "id": "nmhljAKBbaGL"
      }
    },
    {
      "cell_type": "code",
      "execution_count": 9,
      "metadata": {
        "id": "RNMd50ZoUb25"
      },
      "outputs": [],
      "source": [
        "import datetime\n",
        "import wikipedia\n",
        "import webbrowser\n",
        "import os\n",
        "import time\n",
        "import subprocess\n",
        "from ecapture import ecapture as ec\n",
        "import wolframalpha\n",
        "import json\n",
        "import requests"
      ]
    },
    {
      "cell_type": "code",
      "source": [
        "import pyttsx3"
      ],
      "metadata": {
        "id": "o-NeX7C2cipG"
      },
      "execution_count": 10,
      "outputs": []
    },
    {
      "cell_type": "code",
      "source": [
        "import speech_recognition as sr"
      ],
      "metadata": {
        "id": "yyjokV69aMhi"
      },
      "execution_count": 11,
      "outputs": []
    },
    {
      "cell_type": "code",
      "source": [
        "import pyaudio"
      ],
      "metadata": {
        "id": "u9ewgaNFmAmQ"
      },
      "execution_count": 12,
      "outputs": []
    },
    {
      "cell_type": "markdown",
      "source": [
        "# Setting up the speech engine:"
      ],
      "metadata": {
        "id": "2nEgHjKDbeDe"
      }
    },
    {
      "cell_type": "code",
      "source": [
        "engine = pyttsx3.init('dummy')\n",
        "voices=engine.getProperty('voices')\n",
        "engine.setProperty('voice','voices[0].id')"
      ],
      "metadata": {
        "id": "LwqEg2WSa-e4"
      },
      "execution_count": 13,
      "outputs": []
    },
    {
      "cell_type": "markdown",
      "source": [
        "Now define a function speak which converts text to speech"
      ],
      "metadata": {
        "id": "feKQWEv2fYCj"
      }
    },
    {
      "cell_type": "code",
      "source": [
        "def speak(text):\n",
        "    engine.say(text)\n",
        "    engine.runAndWait()"
      ],
      "metadata": {
        "id": "ddyKbIgcfVRT"
      },
      "execution_count": 14,
      "outputs": []
    },
    {
      "cell_type": "markdown",
      "source": [
        "# Initiate a function to greet the user:"
      ],
      "metadata": {
        "id": "FzhtuWeMf59D"
      }
    },
    {
      "cell_type": "code",
      "source": [
        "def wishMe():\n",
        "    hour=datetime.datetime.now().hour\n",
        "    if hour>=0 and hour<12:\n",
        "        speak(\"Hello,Good Morning\")\n",
        "        print(\"Hello,Good Morning\")\n",
        "    elif hour>=12 and hour<18:\n",
        "        speak(\"Hello,Good Afternoon\")\n",
        "        print(\"Hello,Good Afternoon\")\n",
        "    else:\n",
        "        speak(\"Hello,Good Evening\")\n",
        "        print(\"Hello,Good Evening\")"
      ],
      "metadata": {
        "id": "rvCQgDeRftUR"
      },
      "execution_count": 15,
      "outputs": []
    },
    {
      "cell_type": "markdown",
      "source": [
        "# Setting up the command function for your AI assistant :"
      ],
      "metadata": {
        "id": "FmGCUPO9gr-h"
      }
    },
    {
      "cell_type": "code",
      "source": [
        "def takeCommand():\n",
        "    r=sr.Recognizer()\n",
        "    with sr.Microphone() as source:\n",
        "        print(\"Listening...\")\n",
        "        audio=r.listen(source)\n",
        "\n",
        "        try:\n",
        "            statement=r.recognize_google(audio,language='en-in')\n",
        "            print(f\"user said:{statement}\\n\")\n",
        "\n",
        "        except Exception as e:\n",
        "            speak(\"Pardon me, please say that again\")\n",
        "            return \"None\"\n",
        "        return statement\n",
        "\n",
        "print(\"Loading your AI personal assistant G-One\")\n",
        "speak(\"Loading your AI personal assistant G-One\")\n",
        "wishMe()"
      ],
      "metadata": {
        "colab": {
          "base_uri": "https://localhost:8080/"
        },
        "id": "55WhjXwignWQ",
        "outputId": "643f4dba-8a63-414d-e682-71ca7fc2fb2c"
      },
      "execution_count": 16,
      "outputs": [
        {
          "output_type": "stream",
          "name": "stdout",
          "text": [
            "Loading your AI personal assistant G-One\n",
            "Hello,Good Evening\n"
          ]
        }
      ]
    },
    {
      "cell_type": "markdown",
      "source": [
        "# The Main function:"
      ],
      "metadata": {
        "id": "cX4BJg-fhbE4"
      }
    },
    {
      "cell_type": "code",
      "source": [
        "if __name__=='__main__':\n",
        "\n",
        "\n",
        "    while True:\n",
        "        speak(\"Tell me how can I help you now?\")\n",
        "        statement = takeCommand().lower()\n",
        "        if statement==0:\n",
        "            continue\n",
        "\n",
        "        if \"good bye\" in statement or \"ok bye\" in statement or \"stop\" in statement:\n",
        "            speak('your personal assistant G-one is shutting down,Good bye')\n",
        "            print('your personal assistant G-one is shutting down,Good bye')\n",
        "            break\n",
        "\n",
        "\n",
        "\n",
        "        if 'wikipedia' in statement:\n",
        "            speak('Searching Wikipedia...')\n",
        "            statement =statement.replace(\"wikipedia\", \"\")\n",
        "            results = wikipedia.summary(statement, sentences=3)\n",
        "            speak(\"According to Wikipedia\")\n",
        "            print(results)\n",
        "            speak(results)\n",
        "\n",
        "        elif 'open youtube' in statement:\n",
        "            webbrowser.open_new_tab(\"https://www.youtube.com\")\n",
        "            speak(\"youtube is open now\")\n",
        "            time.sleep(5)\n",
        "\n",
        "        elif 'open google' in statement:\n",
        "            webbrowser.open_new_tab(\"https://www.google.com\")\n",
        "            speak(\"Google chrome is open now\")\n",
        "            time.sleep(5)\n",
        "\n",
        "        elif 'open gmail' in statement:\n",
        "            webbrowser.open_new_tab(\"gmail.com\")\n",
        "            speak(\"Google Mail open now\")\n",
        "            time.sleep(5)\n",
        "\n",
        "        elif \"weather\" in statement:\n",
        "            api_key=\"8ef61edcf1c576d65d836254e11ea420\"\n",
        "            base_url=\"https://api.openweathermap.org/data/2.5/weather?\"\n",
        "            speak(\"whats the city name\")\n",
        "            city_name=takeCommand()\n",
        "            complete_url=base_url+\"appid=\"+api_key+\"&q=\"+city_name\n",
        "            response = requests.get(complete_url)\n",
        "            x=response.json()\n",
        "            if x[\"cod\"]!=\"404\":\n",
        "                y=x[\"main\"]\n",
        "                current_temperature = y[\"temp\"]\n",
        "                current_humidiy = y[\"humidity\"]\n",
        "                z = x[\"weather\"]\n",
        "                weather_description = z[0][\"description\"]\n",
        "                speak(\" Temperature in kelvin unit is \" +\n",
        "                      str(current_temperature) +\n",
        "                      \"\\n humidity in percentage is \" +\n",
        "                      str(current_humidiy) +\n",
        "                      \"\\n description  \" +\n",
        "                      str(weather_description))\n",
        "                print(\" Temperature in kelvin unit = \" +\n",
        "                      str(current_temperature) +\n",
        "                      \"\\n humidity (in percentage) = \" +\n",
        "                      str(current_humidiy) +\n",
        "                      \"\\n description = \" +\n",
        "                      str(weather_description))\n",
        "\n",
        "            else:\n",
        "                speak(\" City Not Found \")\n",
        "\n",
        "\n",
        "\n",
        "        elif 'time' in statement:\n",
        "            strTime=datetime.datetime.now().strftime(\"%H:%M:%S\")\n",
        "            speak(f\"the time is {strTime}\")\n",
        "\n",
        "        elif 'who are you' in statement or 'what can you do' in statement:\n",
        "            speak('I am G-one version 1 point O your persoanl assistant. I am programmed to minor tasks like'\n",
        "                  'opening youtube,google chrome,gmail and stackoverflow ,predict time,take a photo,search wikipedia,predict weather' \n",
        "                  'in different cities , get top headline news from times of india and you can ask me computational or geographical questions too!')\n",
        "\n",
        "\n",
        "        elif \"who made you\" in statement or \"who created you\" in statement or \"who discovered you\" in statement:\n",
        "            speak(\"I was built by Mirthula\")\n",
        "            print(\"I was built by Mirthula\")\n",
        "\n",
        "        elif \"open stackoverflow\" in statement:\n",
        "            webbrowser.open_new_tab(\"https://stackoverflow.com/login\")\n",
        "            speak(\"Here is stackoverflow\")\n",
        "\n",
        "        elif 'news' in statement:\n",
        "            news = webbrowser.open_new_tab(\"https://timesofindia.indiatimes.com/home/headlines\")\n",
        "            speak('Here are some headlines from the Times of India,Happy reading')\n",
        "            time.sleep(6)\n",
        "\n",
        "        elif \"camera\" in statement or \"take a photo\" in statement:\n",
        "            ec.capture(0,\"robo camera\",\"img.jpg\")\n",
        "\n",
        "        elif 'search'  in statement:\n",
        "            statement = statement.replace(\"search\", \"\")\n",
        "            webbrowser.open_new_tab(statement)\n",
        "            time.sleep(5)\n",
        "\n",
        "        elif 'ask' in statement:\n",
        "            speak('I can answer to computational and geographical questions and what question do you want to ask now')\n",
        "            question=takeCommand()\n",
        "            app_id=\"R2K75H-7ELALHR35X\"\n",
        "            client = wolframalpha.Client('R2K75H-7ELALHR35X')\n",
        "            res = client.query(question)\n",
        "            answer = next(res.results).text\n",
        "            speak(answer)\n",
        "            print(answer)\n",
        "\n",
        "\n",
        "        elif \"log off\" in statement or \"sign out\" in statement:\n",
        "            speak(\"Ok , your pc will log off in 10 sec make sure you exit from all applications\")\n",
        "            subprocess.call([\"shutdown\", \"/l\"])\n",
        "\n",
        "time.sleep(3)"
      ],
      "metadata": {
        "id": "WWKG3oz9G0v4",
        "colab": {
          "base_uri": "https://localhost:8080/",
          "height": 380
        },
        "outputId": "2abeda67-ca33-4498-c0b7-fa6784b354fa"
      },
      "execution_count": 17,
      "outputs": [
        {
          "output_type": "error",
          "ename": "OSError",
          "evalue": "ignored",
          "traceback": [
            "\u001b[0;31m---------------------------------------------------------------------------\u001b[0m",
            "\u001b[0;31mOSError\u001b[0m                                   Traceback (most recent call last)",
            "\u001b[0;32m<ipython-input-17-53c79d1fa38d>\u001b[0m in \u001b[0;36m<module>\u001b[0;34m\u001b[0m\n\u001b[1;32m      4\u001b[0m     \u001b[0;32mwhile\u001b[0m \u001b[0;32mTrue\u001b[0m\u001b[0;34m:\u001b[0m\u001b[0;34m\u001b[0m\u001b[0;34m\u001b[0m\u001b[0m\n\u001b[1;32m      5\u001b[0m         \u001b[0mspeak\u001b[0m\u001b[0;34m(\u001b[0m\u001b[0;34m\"Tell me how can I help you now?\"\u001b[0m\u001b[0;34m)\u001b[0m\u001b[0;34m\u001b[0m\u001b[0;34m\u001b[0m\u001b[0m\n\u001b[0;32m----> 6\u001b[0;31m         \u001b[0mstatement\u001b[0m \u001b[0;34m=\u001b[0m \u001b[0mtakeCommand\u001b[0m\u001b[0;34m(\u001b[0m\u001b[0;34m)\u001b[0m\u001b[0;34m.\u001b[0m\u001b[0mlower\u001b[0m\u001b[0;34m(\u001b[0m\u001b[0;34m)\u001b[0m\u001b[0;34m\u001b[0m\u001b[0;34m\u001b[0m\u001b[0m\n\u001b[0m\u001b[1;32m      7\u001b[0m         \u001b[0;32mif\u001b[0m \u001b[0mstatement\u001b[0m\u001b[0;34m==\u001b[0m\u001b[0;36m0\u001b[0m\u001b[0;34m:\u001b[0m\u001b[0;34m\u001b[0m\u001b[0;34m\u001b[0m\u001b[0m\n\u001b[1;32m      8\u001b[0m             \u001b[0;32mcontinue\u001b[0m\u001b[0;34m\u001b[0m\u001b[0;34m\u001b[0m\u001b[0m\n",
            "\u001b[0;32m<ipython-input-16-46fa1b7a5e2b>\u001b[0m in \u001b[0;36mtakeCommand\u001b[0;34m()\u001b[0m\n\u001b[1;32m      1\u001b[0m \u001b[0;32mdef\u001b[0m \u001b[0mtakeCommand\u001b[0m\u001b[0;34m(\u001b[0m\u001b[0;34m)\u001b[0m\u001b[0;34m:\u001b[0m\u001b[0;34m\u001b[0m\u001b[0;34m\u001b[0m\u001b[0m\n\u001b[1;32m      2\u001b[0m     \u001b[0mr\u001b[0m\u001b[0;34m=\u001b[0m\u001b[0msr\u001b[0m\u001b[0;34m.\u001b[0m\u001b[0mRecognizer\u001b[0m\u001b[0;34m(\u001b[0m\u001b[0;34m)\u001b[0m\u001b[0;34m\u001b[0m\u001b[0;34m\u001b[0m\u001b[0m\n\u001b[0;32m----> 3\u001b[0;31m     \u001b[0;32mwith\u001b[0m \u001b[0msr\u001b[0m\u001b[0;34m.\u001b[0m\u001b[0mMicrophone\u001b[0m\u001b[0;34m(\u001b[0m\u001b[0;34m)\u001b[0m \u001b[0;32mas\u001b[0m \u001b[0msource\u001b[0m\u001b[0;34m:\u001b[0m\u001b[0;34m\u001b[0m\u001b[0;34m\u001b[0m\u001b[0m\n\u001b[0m\u001b[1;32m      4\u001b[0m         \u001b[0mprint\u001b[0m\u001b[0;34m(\u001b[0m\u001b[0;34m\"Listening...\"\u001b[0m\u001b[0;34m)\u001b[0m\u001b[0;34m\u001b[0m\u001b[0;34m\u001b[0m\u001b[0m\n\u001b[1;32m      5\u001b[0m         \u001b[0maudio\u001b[0m\u001b[0;34m=\u001b[0m\u001b[0mr\u001b[0m\u001b[0;34m.\u001b[0m\u001b[0mlisten\u001b[0m\u001b[0;34m(\u001b[0m\u001b[0msource\u001b[0m\u001b[0;34m)\u001b[0m\u001b[0;34m\u001b[0m\u001b[0;34m\u001b[0m\u001b[0m\n",
            "\u001b[0;32m/usr/local/lib/python3.7/dist-packages/speech_recognition/__init__.py\u001b[0m in \u001b[0;36m__init__\u001b[0;34m(self, device_index, sample_rate, chunk_size)\u001b[0m\n\u001b[1;32m     84\u001b[0m                 \u001b[0;32massert\u001b[0m \u001b[0;36m0\u001b[0m \u001b[0;34m<=\u001b[0m \u001b[0mdevice_index\u001b[0m \u001b[0;34m<\u001b[0m \u001b[0mcount\u001b[0m\u001b[0;34m,\u001b[0m \u001b[0;34m\"Device index out of range ({} devices available; device index should be between 0 and {} inclusive)\"\u001b[0m\u001b[0;34m.\u001b[0m\u001b[0mformat\u001b[0m\u001b[0;34m(\u001b[0m\u001b[0mcount\u001b[0m\u001b[0;34m,\u001b[0m \u001b[0mcount\u001b[0m \u001b[0;34m-\u001b[0m \u001b[0;36m1\u001b[0m\u001b[0;34m)\u001b[0m\u001b[0;34m\u001b[0m\u001b[0;34m\u001b[0m\u001b[0m\n\u001b[1;32m     85\u001b[0m             \u001b[0;32mif\u001b[0m \u001b[0msample_rate\u001b[0m \u001b[0;32mis\u001b[0m \u001b[0;32mNone\u001b[0m\u001b[0;34m:\u001b[0m  \u001b[0;31m# automatically set the sample rate to the hardware's default sample rate if not specified\u001b[0m\u001b[0;34m\u001b[0m\u001b[0;34m\u001b[0m\u001b[0m\n\u001b[0;32m---> 86\u001b[0;31m                 \u001b[0mdevice_info\u001b[0m \u001b[0;34m=\u001b[0m \u001b[0maudio\u001b[0m\u001b[0;34m.\u001b[0m\u001b[0mget_device_info_by_index\u001b[0m\u001b[0;34m(\u001b[0m\u001b[0mdevice_index\u001b[0m\u001b[0;34m)\u001b[0m \u001b[0;32mif\u001b[0m \u001b[0mdevice_index\u001b[0m \u001b[0;32mis\u001b[0m \u001b[0;32mnot\u001b[0m \u001b[0;32mNone\u001b[0m \u001b[0;32melse\u001b[0m \u001b[0maudio\u001b[0m\u001b[0;34m.\u001b[0m\u001b[0mget_default_input_device_info\u001b[0m\u001b[0;34m(\u001b[0m\u001b[0;34m)\u001b[0m\u001b[0;34m\u001b[0m\u001b[0;34m\u001b[0m\u001b[0m\n\u001b[0m\u001b[1;32m     87\u001b[0m                 \u001b[0;32massert\u001b[0m \u001b[0misinstance\u001b[0m\u001b[0;34m(\u001b[0m\u001b[0mdevice_info\u001b[0m\u001b[0;34m.\u001b[0m\u001b[0mget\u001b[0m\u001b[0;34m(\u001b[0m\u001b[0;34m\"defaultSampleRate\"\u001b[0m\u001b[0;34m)\u001b[0m\u001b[0;34m,\u001b[0m \u001b[0;34m(\u001b[0m\u001b[0mfloat\u001b[0m\u001b[0;34m,\u001b[0m \u001b[0mint\u001b[0m\u001b[0;34m)\u001b[0m\u001b[0;34m)\u001b[0m \u001b[0;32mand\u001b[0m \u001b[0mdevice_info\u001b[0m\u001b[0;34m[\u001b[0m\u001b[0;34m\"defaultSampleRate\"\u001b[0m\u001b[0;34m]\u001b[0m \u001b[0;34m>\u001b[0m \u001b[0;36m0\u001b[0m\u001b[0;34m,\u001b[0m \u001b[0;34m\"Invalid device info returned from PyAudio: {}\"\u001b[0m\u001b[0;34m.\u001b[0m\u001b[0mformat\u001b[0m\u001b[0;34m(\u001b[0m\u001b[0mdevice_info\u001b[0m\u001b[0;34m)\u001b[0m\u001b[0;34m\u001b[0m\u001b[0;34m\u001b[0m\u001b[0m\n\u001b[1;32m     88\u001b[0m                 \u001b[0msample_rate\u001b[0m \u001b[0;34m=\u001b[0m \u001b[0mint\u001b[0m\u001b[0;34m(\u001b[0m\u001b[0mdevice_info\u001b[0m\u001b[0;34m[\u001b[0m\u001b[0;34m\"defaultSampleRate\"\u001b[0m\u001b[0;34m]\u001b[0m\u001b[0;34m)\u001b[0m\u001b[0;34m\u001b[0m\u001b[0;34m\u001b[0m\u001b[0m\n",
            "\u001b[0;32m/usr/local/lib/python3.7/dist-packages/pyaudio.py\u001b[0m in \u001b[0;36mget_default_input_device_info\u001b[0;34m(self)\u001b[0m\n\u001b[1;32m    951\u001b[0m         \"\"\"\n\u001b[1;32m    952\u001b[0m \u001b[0;34m\u001b[0m\u001b[0m\n\u001b[0;32m--> 953\u001b[0;31m         \u001b[0mdevice_index\u001b[0m \u001b[0;34m=\u001b[0m \u001b[0mpa\u001b[0m\u001b[0;34m.\u001b[0m\u001b[0mget_default_input_device\u001b[0m\u001b[0;34m(\u001b[0m\u001b[0;34m)\u001b[0m\u001b[0;34m\u001b[0m\u001b[0;34m\u001b[0m\u001b[0m\n\u001b[0m\u001b[1;32m    954\u001b[0m         \u001b[0;32mreturn\u001b[0m \u001b[0mself\u001b[0m\u001b[0;34m.\u001b[0m\u001b[0mget_device_info_by_index\u001b[0m\u001b[0;34m(\u001b[0m\u001b[0mdevice_index\u001b[0m\u001b[0;34m)\u001b[0m\u001b[0;34m\u001b[0m\u001b[0;34m\u001b[0m\u001b[0m\n\u001b[1;32m    955\u001b[0m \u001b[0;34m\u001b[0m\u001b[0m\n",
            "\u001b[0;31mOSError\u001b[0m: No Default Input Device Available"
          ]
        }
      ]
    }
  ]
}