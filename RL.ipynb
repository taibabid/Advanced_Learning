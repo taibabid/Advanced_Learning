{
  "nbformat": 4,
  "nbformat_minor": 0,
  "metadata": {
    "colab": {
      "provenance": [],
      "authorship_tag": "ABX9TyN3jE3hGvbsHa7wTC0liLib"
    },
    "kernelspec": {
      "name": "python3",
      "display_name": "Python 3"
    },
    "language_info": {
      "name": "python"
    }
  },
  "cells": [
    {
      "cell_type": "markdown",
      "source": [
        "# Importer les librairies\n",
        "\n"
      ],
      "metadata": {
        "id": "zgpCojL4-w0m"
      }
    },
    {
      "cell_type": "code",
      "execution_count": 1,
      "metadata": {
        "id": "ywerqi9zz406"
      },
      "outputs": [],
      "source": [
        "import numpy as np #Numpy pour manipuler notre Dataset en tant que matrice\n",
        "import matplotlib.pyplot as plt #Matplotlib.pyplot pour visualiser nos données\n",
        "from sklearn.datasets import make_regression #La fonction make_regression de Sklearn pour générer un nuage de point (ici on va simuler des données)\n",
        "from sklearn.linear_model import SGDRegressor #SGDRegressor (qui signifie Stochastic Gradient Descent Regressor) et qui contient le calcul de la Fonction Coût, des gradients, de l’algorithme de minimisation"
      ]
    },
    {
      "cell_type": "markdown",
      "source": [
        "# Créer un Dataset"
      ],
      "metadata": {
        "id": "Wbz3KGse-_oU"
      }
    },
    {
      "cell_type": "code",
      "source": [
        "np.random.seed(0) #Pour maitriser l’aléatoire, nous allons générer un tableau de données (𝒙, 𝒚) aléatoires\n",
        "x, y = make_regression(n_samples=100, n_features=1, noise=10) #La fonction make_regression prend comme arguments le nombre d’échantillons à générer, le nombre de variables et le bruit puis nous retourne deux vecteurs 𝒙 et 𝒚.\n",
        "plt.scatter(x, y) #pour visualiser nos données"
      ],
      "metadata": {
        "colab": {
          "base_uri": "https://localhost:8080/",
          "height": 282
        },
        "id": "X8jaXvwO_D7Z",
        "outputId": "a17fc94f-b7c0-4b17-9bd1-63db7fe7c3d0"
      },
      "execution_count": 2,
      "outputs": [
        {
          "output_type": "execute_result",
          "data": {
            "text/plain": [
              "<matplotlib.collections.PathCollection at 0x7fc043947610>"
            ]
          },
          "metadata": {},
          "execution_count": 2
        },
        {
          "output_type": "display_data",
          "data": {
            "text/plain": [
              "<Figure size 432x288 with 1 Axes>"
            ],
            "image/png": "[encoded data removed]"
          },
          "metadata": {
            "needs_background": "light"
          }
        }
      ]
    },
    {
      "cell_type": "markdown",
      "source": [
        "# Développer le modèle et l’entraîner"
      ],
      "metadata": {
        "id": "o3YfGqsIA3WW"
      }
    },
    {
      "cell_type": "code",
      "source": [
        "model = SGDRegressor(max_iter=100, eta0=0.0001) #On définir nos model depuis le générateur SGDRegressor en entrant le nombre d’itérations que le Gradient Descent doit effectuer ainsi que le Learning Rate\n",
        "model.fit(x,y) #On entraîner nos model"
      ],
      "metadata": {
        "colab": {
          "base_uri": "https://localhost:8080/"
        },
        "id": "WshyRNAaAvd6",
        "outputId": "e65fe6ba-6584-4c43-e2b8-455deaae0928"
      },
      "execution_count": 3,
      "outputs": [
        {
          "output_type": "stream",
          "name": "stderr",
          "text": [
            "/usr/local/lib/python3.7/dist-packages/sklearn/linear_model/_stochastic_gradient.py:1507: ConvergenceWarning: Maximum number of iteration reached before convergence. Consider increasing max_iter to improve the fit.\n",
            "  ConvergenceWarning,\n"
          ]
        },
        {
          "output_type": "execute_result",
          "data": {
            "text/plain": [
              "SGDRegressor(eta0=0.0001, max_iter=100)"
            ]
          },
          "metadata": {},
          "execution_count": 3
        }
      ]
    },
    {
      "cell_type": "code",
      "source": [
        "print('Coeff R2 =', model.score(x, y)) #On utiliser la fonction score pour observez la précision de notre modèle qui calcule le coefficient de détermination entre le modèle et les valeurs 𝒚 de notre Dataset. \n",
        "plt.scatter(x, y) \n",
        "plt.plot(x, model.predict(x), c='red', lw = 3) #On utiliser la fonction predict pour faire de nouvelles prédictions et tracer ces résultats avec la fonction plt.plot"
      ],
      "metadata": {
        "id": "UHeT2FcJCErf",
        "outputId": "0a6bfdad-0e46-4d78-86f6-af1ee641cb7a",
        "colab": {
          "base_uri": "https://localhost:8080/",
          "height": 300
        }
      },
      "execution_count": 4,
      "outputs": [
        {
          "output_type": "stream",
          "name": "stdout",
          "text": [
            "Coeff R2 = 0.22279377204565387\n"
          ]
        },
        {
          "output_type": "execute_result",
          "data": {
            "text/plain": [
              "[<matplotlib.lines.Line2D at 0x7fc043404050>]"
            ]
          },
          "metadata": {},
          "execution_count": 4
        },
        {
          "output_type": "display_data",
          "data": {
            "text/plain": [
              "<Figure size 432x288 with 1 Axes>"
            ],
            "image/png": "[encoded data removed]"
          },
          "metadata": {
            "needs_background": "light"
          }
        }
      ]
    },
    {
      "cell_type": "markdown",
      "source": [
        "Notre modèle semble vraiment mauvais. C’est parce que nous ne l’avons pas entraîné suffisamment longtemps et parce que le Learning rate était trop faible. Aucun problème, il est possible de le ré-entraîner avec de meilleurs hyper-paramètres."
      ],
      "metadata": {
        "id": "lWiVGl0iDlc8"
      }
    },
    {
      "cell_type": "markdown",
      "source": [
        "En Machine Learning, les valeurs qui fonctionnent bien pour la plupart \n",
        "des entraînements sont :\n",
        "\n",
        "• Nombre d’itérations = 1000\n",
        "\n",
        "• Learning rate = 0.001"
      ],
      "metadata": {
        "id": "iXeeNTWsEjpv"
      }
    },
    {
      "cell_type": "code",
      "source": [
        "model = SGDRegressor(max_iter=1000, eta0=0.001) \n",
        "model.fit(x,y)"
      ],
      "metadata": {
        "id": "y5xCE_RdDoJY",
        "outputId": "046ea720-a135-40c0-e1c1-f3a81bd7e9e4",
        "colab": {
          "base_uri": "https://localhost:8080/"
        }
      },
      "execution_count": 5,
      "outputs": [
        {
          "output_type": "execute_result",
          "data": {
            "text/plain": [
              "SGDRegressor(eta0=0.001)"
            ]
          },
          "metadata": {},
          "execution_count": 5
        }
      ]
    },
    {
      "cell_type": "code",
      "source": [
        "print('Coeff R2 =', model.score(x, y)) \n",
        "plt.scatter(x, y) \n",
        "plt.plot(x, model.predict(x), c='red', lw = 3)"
      ],
      "metadata": {
        "id": "_bBO4_auEXTk",
        "outputId": "9f51c060-408c-412a-9e24-6d72b30e1e8d",
        "colab": {
          "base_uri": "https://localhost:8080/",
          "height": 300
        }
      },
      "execution_count": 6,
      "outputs": [
        {
          "output_type": "stream",
          "name": "stdout",
          "text": [
            "Coeff R2 = 0.9416557905990657\n"
          ]
        },
        {
          "output_type": "execute_result",
          "data": {
            "text/plain": [
              "[<matplotlib.lines.Line2D at 0x7fc0433346d0>]"
            ]
          },
          "metadata": {},
          "execution_count": 6
        },
        {
          "output_type": "display_data",
          "data": {
            "text/plain": [
              "<Figure size 432x288 with 1 Axes>"
            ],
            "image/png": "[encoded data removed]"
          },
          "metadata": {
            "needs_background": "light"
          }
        }
      ]
    }
  ]
}